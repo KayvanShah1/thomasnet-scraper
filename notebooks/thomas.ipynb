{
 "metadata": {
  "language_info": {
   "codemirror_mode": {
    "name": "ipython",
    "version": 3
   },
   "file_extension": ".py",
   "mimetype": "text/x-python",
   "name": "python",
   "nbconvert_exporter": "python",
   "pygments_lexer": "ipython3",
   "version": "3.8.7"
  },
  "orig_nbformat": 4,
  "kernelspec": {
   "name": "python3",
   "display_name": "Python 3.8.7 64-bit ('ENV': venv)"
  },
  "interpreter": {
   "hash": "a1bbaa7691f347bdd53fc61c187f1bbfb967e58ee26cee4d0bb5d3fcab5361c7"
  }
 },
 "nbformat": 4,
 "nbformat_minor": 2,
 "cells": [
  {
   "source": [
    "# Testing\n",
    "\n",
    "[Link to the website](https://www.thomasnet.com/)"
   ],
   "cell_type": "markdown",
   "metadata": {}
  },
  {
   "cell_type": "code",
   "execution_count": 3,
   "metadata": {},
   "outputs": [],
   "source": [
    "import requests\n",
    "from bs4 import BeautifulSoup\n",
    "from traceback import print_exc\n",
    "\n",
    "from datetime import datetime\n",
    "import time\n",
    "from tqdm import tqdm\n",
    "\n",
    "import numpy as np \n",
    "import pandas as pd\n",
    "import math"
   ]
  },
  {
   "cell_type": "code",
   "execution_count": 5,
   "metadata": {},
   "outputs": [],
   "source": [
    "headers = {\n",
    "    \"user-agent\": \"Mozilla/5.0 (Windows NT 10.0; Win64; x64) AppleWebKit/537.36 (KHTML, like Gecko) Chrome/91.0.4472.114 Safari/537.36\"\n",
    "}\n",
    "\n",
    "payload = {\n",
    "    # \"WTZO\": \"Find Suppliers\",\n",
    "    \"cov\": \"NA\",\n",
    "    \"heading\": 21650809,\n",
    "    \"searchsource\": \"suppliers\",\n",
    "    \"searchterm\": \"hydraulic cylinders\",\n",
    "    # \"searchx\": \"true\",\n",
    "    \"what\": \"hydraulic cylinders\",\n",
    "    # \"which\": \"prod\",\n",
    "    \"pg\": 1\n",
    "}\n",
    "\n",
    "BASE_URL = \"https://www.thomasnet.com/nsearch.html\""
   ]
  },
  {
   "cell_type": "code",
   "execution_count": 6,
   "metadata": {
    "tags": []
   },
   "outputs": [
    {
     "output_type": "stream",
     "name": "stdout",
     "text": [
      "772 suppliers found\n25 found on this page\nTotal Pages: 31\n"
     ]
    }
   ],
   "source": [
    "page = requests.get(BASE_URL, params=payload)\n",
    "soup = BeautifulSoup(page.text,\"lxml\")\n",
    "\n",
    "total_suppliers = soup.find('p',class_=\"supplier-search-results__subheader\").findAll('b')[-1].text\n",
    "print(f\"{total_suppliers} suppliers found\")\n",
    "\n",
    "n_suppliers = len(soup.findAll('div',class_=\"supplier-search-results__card\"))\n",
    "print(f\"{n_suppliers} found on this page\")\n",
    "\n",
    "number_of_pages = math.ceil(float(total_suppliers)/float(n_suppliers))\n",
    "print(f\"Total Pages: {number_of_pages}\")"
   ]
  },
  {
   "cell_type": "code",
   "execution_count": 7,
   "metadata": {},
   "outputs": [],
   "source": [
    "def generate_payloads(keyword: str, page_num: int):\n",
    "    payloads = []\n",
    "    for i in range(page_num):\n",
    "        payload = {\n",
    "            \"cov\": \"NA\",\n",
    "            \"heading\": 21650809,\n",
    "            \"searchsource\": \"suppliers\",\n",
    "            \"searchterm\": keyword,\n",
    "            \"what\": keyword,\n",
    "            \"pg\": i+1\n",
    "        }\n",
    "        payloads.append(payload)\n",
    "\n",
    "    return payloads\n",
    "\n",
    "x = generate_payloads('hydraulic cylinders',number_of_pages)"
   ]
  },
  {
   "cell_type": "code",
   "execution_count": 8,
   "metadata": {},
   "outputs": [
    {
     "output_type": "stream",
     "name": "stderr",
     "text": [
      "100%|██████████| 31/31 [01:55<00:00,  3.73s/it](772, 13)\n",
      "\n"
     ]
    },
    {
     "output_type": "execute_result",
     "data": {
      "text/plain": [
       "    company_id                          company_name  \\\n",
       "767   10075759                                Sharpe   \n",
       "768   30701351               Norcan Fluid Power Ltd.   \n",
       "769   10087352          Progressive Fluid Power Inc.   \n",
       "770     418858                 Eastern Welding, Inc.   \n",
       "771   30691080  Eastern Industries & Hydraulics Ltd.   \n",
       "\n",
       "                       company_type annual_revenue year_founded num_employees  \\\n",
       "767                   Manufacturer*                        1987                 \n",
       "768                    Distributor*   $5 - 9.9 Mil                      10-49   \n",
       "769  Manufacturer*, Service Company                                       1-9   \n",
       "770                   Manufacturer*                        1945         10-49   \n",
       "771                   Manufacturer*   $1 - 4.9 Mil         1982           1-9   \n",
       "\n",
       "            location company_url brands  \\\n",
       "767        Delta, BC                      \n",
       "768      Calgary, AB                      \n",
       "769    Kitchener, ON                      \n",
       "770    Riverhead, NY                      \n",
       "771  Mount Pearl, NL                      \n",
       "\n",
       "                                           description  \\\n",
       "767                   Manufacturer of servo actuators.   \n",
       "768                                                      \n",
       "769  Accumulators, Controls, Cylinders, Drives, Fit...   \n",
       "770  Manufacturer of truck bodies, marine & hydraul...   \n",
       "771                                                      \n",
       "\n",
       "                                                   url           telephone  \\\n",
       "767  https://www.thomasnet.com/profile/10075759/sha...                       \n",
       "768  https://www.thomasnet.com/profile/30701351/nor...  tel://403-236-8392   \n",
       "769  https://www.thomasnet.com/profile/10087352/pro...  tel://519-748-5886   \n",
       "770  https://www.thomasnet.com/profile/00418858/eas...  tel://800-772-2529   \n",
       "771  https://www.thomasnet.com/profile/30691080/eas...  tel://709-747-3333   \n",
       "\n",
       "              searchterm  \n",
       "767  hydraulic cylinders  \n",
       "768  hydraulic cylinders  \n",
       "769  hydraulic cylinders  \n",
       "770  hydraulic cylinders  \n",
       "771  hydraulic cylinders  "
      ],
      "text/html": "<div>\n<style scoped>\n    .dataframe tbody tr th:only-of-type {\n        vertical-align: middle;\n    }\n\n    .dataframe tbody tr th {\n        vertical-align: top;\n    }\n\n    .dataframe thead th {\n        text-align: right;\n    }\n</style>\n<table border=\"1\" class=\"dataframe\">\n  <thead>\n    <tr style=\"text-align: right;\">\n      <th></th>\n      <th>company_id</th>\n      <th>company_name</th>\n      <th>company_type</th>\n      <th>annual_revenue</th>\n      <th>year_founded</th>\n      <th>num_employees</th>\n      <th>location</th>\n      <th>company_url</th>\n      <th>brands</th>\n      <th>description</th>\n      <th>url</th>\n      <th>telephone</th>\n      <th>searchterm</th>\n    </tr>\n  </thead>\n  <tbody>\n    <tr>\n      <th>767</th>\n      <td>10075759</td>\n      <td>Sharpe</td>\n      <td>Manufacturer*</td>\n      <td></td>\n      <td>1987</td>\n      <td></td>\n      <td>Delta, BC</td>\n      <td></td>\n      <td></td>\n      <td>Manufacturer of servo actuators.</td>\n      <td>https://www.thomasnet.com/profile/10075759/sha...</td>\n      <td></td>\n      <td>hydraulic cylinders</td>\n    </tr>\n    <tr>\n      <th>768</th>\n      <td>30701351</td>\n      <td>Norcan Fluid Power Ltd.</td>\n      <td>Distributor*</td>\n      <td>$5 - 9.9 Mil</td>\n      <td></td>\n      <td>10-49</td>\n      <td>Calgary, AB</td>\n      <td></td>\n      <td></td>\n      <td></td>\n      <td>https://www.thomasnet.com/profile/30701351/nor...</td>\n      <td>tel://403-236-8392</td>\n      <td>hydraulic cylinders</td>\n    </tr>\n    <tr>\n      <th>769</th>\n      <td>10087352</td>\n      <td>Progressive Fluid Power Inc.</td>\n      <td>Manufacturer*, Service Company</td>\n      <td></td>\n      <td></td>\n      <td>1-9</td>\n      <td>Kitchener, ON</td>\n      <td></td>\n      <td></td>\n      <td>Accumulators, Controls, Cylinders, Drives, Fit...</td>\n      <td>https://www.thomasnet.com/profile/10087352/pro...</td>\n      <td>tel://519-748-5886</td>\n      <td>hydraulic cylinders</td>\n    </tr>\n    <tr>\n      <th>770</th>\n      <td>418858</td>\n      <td>Eastern Welding, Inc.</td>\n      <td>Manufacturer*</td>\n      <td></td>\n      <td>1945</td>\n      <td>10-49</td>\n      <td>Riverhead, NY</td>\n      <td></td>\n      <td></td>\n      <td>Manufacturer of truck bodies, marine &amp; hydraul...</td>\n      <td>https://www.thomasnet.com/profile/00418858/eas...</td>\n      <td>tel://800-772-2529</td>\n      <td>hydraulic cylinders</td>\n    </tr>\n    <tr>\n      <th>771</th>\n      <td>30691080</td>\n      <td>Eastern Industries &amp; Hydraulics Ltd.</td>\n      <td>Manufacturer*</td>\n      <td>$1 - 4.9 Mil</td>\n      <td>1982</td>\n      <td>1-9</td>\n      <td>Mount Pearl, NL</td>\n      <td></td>\n      <td></td>\n      <td></td>\n      <td>https://www.thomasnet.com/profile/30691080/eas...</td>\n      <td>tel://709-747-3333</td>\n      <td>hydraulic cylinders</td>\n    </tr>\n  </tbody>\n</table>\n</div>"
     },
     "metadata": {},
     "execution_count": 8
    }
   ],
   "source": [
    "collected_data = []\n",
    "keyword = 'hydraulic cylinders'\n",
    "heading = 21650809\n",
    "\n",
    "for i in tqdm(x):\n",
    "    page = requests.get(BASE_URL, params=i)\n",
    "    soup = BeautifulSoup(page.text,\"lxml\")\n",
    "\n",
    "    suppliers = soup.findAll('div',class_=\"supplier-search-results__card\")\n",
    "    for sup in suppliers:\n",
    "        card_data = {\n",
    "            \"company_id\":\"\",\n",
    "            \"company_name\":\"\",\n",
    "            \"company_type\":\"\",\n",
    "            \"annual_revenue\":\"\",\n",
    "            \"year_founded\":\"\",\n",
    "            \"num_employees\":\"\",\n",
    "            \"location\":\"\",\n",
    "            \"company_url\":\"\",\n",
    "            \"brands\":\"\",\n",
    "            \"description\":\"\",\n",
    "            \"url\":\"\",\n",
    "            \"telephone\":\"\",\n",
    "            \"searchterm\":keyword\n",
    "        }\n",
    "        try:\n",
    "            header = sup.find('header',class_='profile-card__header')\n",
    "            card_data['company_id'] = eval(sup.get('data-impression-tracking'))['company_id']\n",
    "            card_data['company_name'] = header.find('h2',class_='profile-card__title').text.strip()\n",
    "            card_data['url'] = 'https://www.thomasnet.com'+header.find('h2',class_='profile-card__title').find('a').get('href')\n",
    "            try:\n",
    "                card_data['telephone'] = sup.find('a',{'data-conversion_action':'Call'}).get('href')\n",
    "            except:\n",
    "                pass\n",
    "\n",
    "            sup_data = sup.find('div',class_='profile-card__supplier-data')\n",
    "            card_data['location'] = sup_data.find('span',class_='profile-card__location').text.replace('ico-map','').strip()\n",
    "            card_data['company_type'] = sup_data.find('span',{'data-content':'Company Type'}).text.strip()\n",
    "            try:\n",
    "                card_data['annual_revenue'] = sup_data.find('span',{'data-content':'Annual Revenue'}).text.strip()\n",
    "            except:\n",
    "                pass\n",
    "            try:\n",
    "                card_data['num_employees'] = sup_data.find('span',{'data-content':'Number of Employees'}).text.strip()\n",
    "            except:\n",
    "                pass\n",
    "            try:\n",
    "                card_data['year_founded'] = sup_data.find('span',{'data-content':'Year Founded'}).text.strip()\n",
    "            except:\n",
    "                pass\n",
    "\n",
    "            content = sup.find('div',class_='profile-card__content')\n",
    "            try:\n",
    "                card_data['description'] = content.findAll('p')[0].text.strip()\n",
    "            except:\n",
    "                pass\n",
    "            try:\n",
    "                card_data['company_url'] = content.find('p',{'class':'profile-card_web-link-wrap'}).find('a').get('href')\n",
    "            except:\n",
    "                pass\n",
    "            try:\n",
    "                card_data['brands'] = content.find('p',{'class':'profile-card__brands__body'}).text.strip()\n",
    "            except:\n",
    "                pass\n",
    "        except Exception as e:\n",
    "            print(\"Error encountered while extraction of data\\n\",print_exc())\n",
    "            pass\n",
    "\n",
    "        collected_data.append(card_data)\n",
    "\n",
    "df = pd.DataFrame(collected_data)\n",
    "print(df.shape)\n",
    "df.tail()"
   ]
  },
  {
   "cell_type": "code",
   "execution_count": 12,
   "metadata": {},
   "outputs": [],
   "source": [
    "df.to_csv('hydraulic_cylinders_suppliers_metadata.csv',index=False)"
   ]
  },
  {
   "source": [
    "# Meta-Harvester Class"
   ],
   "cell_type": "markdown",
   "metadata": {}
  },
  {
   "cell_type": "code",
   "execution_count": 57,
   "metadata": {},
   "outputs": [
    {
     "output_type": "stream",
     "name": "stdout",
     "text": [
      "772 suppliers found\n25 found on this page\nTotal Pages: 31\n"
     ]
    }
   ],
   "source": []
  }
 ]
}