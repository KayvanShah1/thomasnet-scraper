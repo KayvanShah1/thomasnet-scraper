{
 "metadata": {
  "language_info": {
   "codemirror_mode": {
    "name": "ipython",
    "version": 3
   },
   "file_extension": ".py",
   "mimetype": "text/x-python",
   "name": "python",
   "nbconvert_exporter": "python",
   "pygments_lexer": "ipython3",
   "version": "3.8.7"
  },
  "orig_nbformat": 4,
  "kernelspec": {
   "name": "python3",
   "display_name": "Python 3.8.7 64-bit ('ENV': venv)"
  },
  "interpreter": {
   "hash": "a1bbaa7691f347bdd53fc61c187f1bbfb967e58ee26cee4d0bb5d3fcab5361c7"
  }
 },
 "nbformat": 4,
 "nbformat_minor": 2,
 "cells": [
  {
   "source": [
    "# Testing\n",
    "\n",
    "[Link to the website](https://www.thomasnet.com/)"
   ],
   "cell_type": "markdown",
   "metadata": {}
  },
  {
   "cell_type": "code",
   "execution_count": 3,
   "metadata": {},
   "outputs": [],
   "source": [
    "import requests\n",
    "from bs4 import BeautifulSoup\n",
    "from traceback import print_exc\n",
    "\n",
    "from datetime import datetime\n",
    "import time\n",
    "from tqdm import tqdm\n",
    "\n",
    "import numpy as np \n",
    "import pandas as pd\n",
    "import math"
   ]
  },
  {
   "cell_type": "code",
   "execution_count": 5,
   "metadata": {},
   "outputs": [],
   "source": [
    "headers = {\n",
    "    \"user-agent\": \"Mozilla/5.0 (Windows NT 10.0; Win64; x64) AppleWebKit/537.36 (KHTML, like Gecko) Chrome/91.0.4472.114 Safari/537.36\"\n",
    "}\n",
    "\n",
    "payload = {\n",
    "    # \"WTZO\": \"Find Suppliers\",\n",
    "    \"cov\": \"NA\",\n",
    "    \"heading\": 21650809,\n",
    "    \"searchsource\": \"suppliers\",\n",
    "    \"searchterm\": \"hydraulic cylinders\",\n",
    "    # \"searchx\": \"true\",\n",
    "    \"what\": \"hydraulic cylinders\",\n",
    "    # \"which\": \"prod\",\n",
    "    \"pg\": 1\n",
    "}\n",
    "\n",
    "BASE_URL = \"https://www.thomasnet.com/nsearch.html\""
   ]
  },
  {
   "cell_type": "code",
   "execution_count": 6,
   "metadata": {
    "tags": []
   },
   "outputs": [
    {
     "output_type": "stream",
     "name": "stdout",
     "text": [
      "772 suppliers found\n25 found on this page\nTotal Pages: 31\n"
     ]
    }
   ],
   "source": [
    "page = requests.get(BASE_URL, params=payload)\n",
    "soup = BeautifulSoup(page.text,\"lxml\")\n",
    "\n",
    "total_suppliers = soup.find('p',class_=\"supplier-search-results__subheader\").findAll('b')[-1].text\n",
    "print(f\"{total_suppliers} suppliers found\")\n",
    "\n",
    "n_suppliers = len(soup.findAll('div',class_=\"supplier-search-results__card\"))\n",
    "print(f\"{n_suppliers} found on this page\")\n",
    "\n",
    "number_of_pages = math.ceil(float(total_suppliers)/float(n_suppliers))\n",
    "print(f\"Total Pages: {number_of_pages}\")"
   ]
  },
  {
   "cell_type": "code",
   "execution_count": 7,
   "metadata": {},
   "outputs": [],
   "source": [
    "def generate_payloads(keyword: str, page_num: int):\n",
    "    payloads = []\n",
    "    for i in range(page_num):\n",
    "        payload = {\n",
    "            \"cov\": \"NA\",\n",
    "            \"heading\": 21650809,\n",
    "            \"searchsource\": \"suppliers\",\n",
    "            \"searchterm\": keyword,\n",
    "            \"what\": keyword,\n",
    "            \"pg\": i+1\n",
    "        }\n",
    "        payloads.append(payload)\n",
    "\n",
    "    return payloads\n",
    "\n",
    "x = generate_payloads('hydraulic cylinders',number_of_pages)"
   ]
  },
  {
   "cell_type": "code",
   "execution_count": 4,
   "metadata": {},
   "outputs": [
    {
     "output_type": "error",
     "ename": "NameError",
     "evalue": "name 'x' is not defined",
     "traceback": [
      "\u001b[1;31m---------------------------------------------------------------------------\u001b[0m",
      "\u001b[1;31mNameError\u001b[0m                                 Traceback (most recent call last)",
      "\u001b[1;32m<ipython-input-4-19e437bc4024>\u001b[0m in \u001b[0;36m<module>\u001b[1;34m\u001b[0m\n\u001b[0;32m      1\u001b[0m \u001b[0mcollected_data\u001b[0m \u001b[1;33m=\u001b[0m \u001b[1;33m[\u001b[0m\u001b[1;33m]\u001b[0m\u001b[1;33m\u001b[0m\u001b[1;33m\u001b[0m\u001b[0m\n\u001b[0;32m      2\u001b[0m \u001b[1;33m\u001b[0m\u001b[0m\n\u001b[1;32m----> 3\u001b[1;33m \u001b[1;32mfor\u001b[0m \u001b[0mi\u001b[0m \u001b[1;32min\u001b[0m \u001b[0mtqdm\u001b[0m\u001b[1;33m(\u001b[0m\u001b[0mx\u001b[0m\u001b[1;33m)\u001b[0m\u001b[1;33m:\u001b[0m\u001b[1;33m\u001b[0m\u001b[1;33m\u001b[0m\u001b[0m\n\u001b[0m\u001b[0;32m      4\u001b[0m     \u001b[0mkeyword\u001b[0m \u001b[1;33m=\u001b[0m \u001b[1;34m'hydraulic cylinders'\u001b[0m\u001b[1;33m\u001b[0m\u001b[1;33m\u001b[0m\u001b[0m\n\u001b[0;32m      5\u001b[0m     \u001b[0mpage\u001b[0m \u001b[1;33m=\u001b[0m \u001b[0mrequests\u001b[0m\u001b[1;33m.\u001b[0m\u001b[0mget\u001b[0m\u001b[1;33m(\u001b[0m\u001b[0mBASE_URL\u001b[0m\u001b[1;33m,\u001b[0m \u001b[0mparams\u001b[0m\u001b[1;33m=\u001b[0m\u001b[0mi\u001b[0m\u001b[1;33m)\u001b[0m\u001b[1;33m\u001b[0m\u001b[1;33m\u001b[0m\u001b[0m\n",
      "\u001b[1;31mNameError\u001b[0m: name 'x' is not defined"
     ]
    }
   ],
   "source": [
    "collected_data = []\n",
    "keyword = 'hydraulic cylinders'\n",
    "heading = 21650809\n",
    "\n",
    "for i in tqdm(x):\n",
    "    page = requests.get(BASE_URL, params=i)\n",
    "    soup = BeautifulSoup(page.text,\"lxml\")\n",
    "\n",
    "    suppliers = soup.findAll('div',class_=\"supplier-search-results__card\")\n",
    "    for sup in suppliers:\n",
    "        card_data = {\n",
    "            \"company_id\":\"\",\n",
    "            \"company_name\":\"\",\n",
    "            \"company_type\":\"\",\n",
    "            \"annual_revenue\":\"\",\n",
    "            \"year_founded\":\"\",\n",
    "            \"num_employees\":\"\",\n",
    "            \"location\":\"\",\n",
    "            \"company_url\":\"\",\n",
    "            \"brands\":\"\",\n",
    "            \"description\":\"\",\n",
    "            \"url\":\"\",\n",
    "            \"telephone\":\"\",\n",
    "            \"searchterm\":keyword\n",
    "        }\n",
    "        try:\n",
    "            header = sup.find('header',class_='profile-card__header')\n",
    "            card_data['company_id'] = eval(sup.get('data-impression-tracking'))['company_id']\n",
    "            card_data['company_name'] = header.find('h2',class_='profile-card__title').text.strip()\n",
    "            card_data['url'] = 'https://www.thomasnet.com'+header.find('h2',class_='profile-card__title').find('a').get('href')\n",
    "            try:\n",
    "                card_data['telephone'] = sup.find('a',{'data-conversion_action':'Call'}).get('href')\n",
    "            except:\n",
    "                pass\n",
    "\n",
    "            sup_data = sup.find('div',class_='profile-card__supplier-data')\n",
    "            card_data['location'] = sup_data.find('span',class_='profile-card__location').text.replace('ico-map','').strip()\n",
    "            card_data['company_type'] = sup_data.find('span',{'data-content':'Company Type'}).text.strip()\n",
    "            try:\n",
    "                card_data['annual_revenue'] = sup_data.find('span',{'data-content':'Annual Revenue'}).text.strip()\n",
    "            except:\n",
    "                pass\n",
    "            try:\n",
    "                card_data['num_employees'] = sup_data.find('span',{'data-content':'Number of Employees'}).text.strip()\n",
    "            except:\n",
    "                pass\n",
    "            try:\n",
    "                card_data['year_founded'] = sup_data.find('span',{'data-content':'Year Founded'}).text.strip()\n",
    "            except:\n",
    "                pass\n",
    "\n",
    "            content = sup.find('div',class_='profile-card__content')\n",
    "            try:\n",
    "                card_data['description'] = content.findAll('p')[0].text.strip()\n",
    "            except:\n",
    "                pass\n",
    "            try:\n",
    "                card_data['company_url'] = content.find('p',{'class':'profile-card_web-link-wrap'}).find('a').get('href')\n",
    "            except:\n",
    "                pass\n",
    "            try:\n",
    "                card_data['brands'] = content.find('p',{'class':'profile-card__brands__body'}).text.strip()\n",
    "            except:\n",
    "                pass\n",
    "        except Exception as e:\n",
    "            print(\"Error encountered while extraction of data\\n\",print_exc())\n",
    "            pass\n",
    "\n",
    "        collected_data.append(card_data)\n",
    "\n",
    "df = pd.DataFrame(collected_data)\n",
    "print(df.shape)\n",
    "df.tail()"
   ]
  },
  {
   "source": [
    "# Meta-Harvester Class"
   ],
   "cell_type": "markdown",
   "metadata": {}
  },
  {
   "cell_type": "code",
   "execution_count": 57,
   "metadata": {},
   "outputs": [
    {
     "output_type": "stream",
     "name": "stdout",
     "text": [
      "772 suppliers found\n25 found on this page\nTotal Pages: 31\n"
     ]
    }
   ],
   "source": []
  }
 ]
}