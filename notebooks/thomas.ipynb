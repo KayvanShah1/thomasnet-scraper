{
 "metadata": {
  "language_info": {
   "codemirror_mode": {
    "name": "ipython",
    "version": 3
   },
   "file_extension": ".py",
   "mimetype": "text/x-python",
   "name": "python",
   "nbconvert_exporter": "python",
   "pygments_lexer": "ipython3",
   "version": "3.8.7"
  },
  "orig_nbformat": 4,
  "kernelspec": {
   "name": "python3",
   "display_name": "Python 3.8.7 64-bit ('ENV': venv)"
  },
  "interpreter": {
   "hash": "a1bbaa7691f347bdd53fc61c187f1bbfb967e58ee26cee4d0bb5d3fcab5361c7"
  }
 },
 "nbformat": 4,
 "nbformat_minor": 2,
 "cells": [
  {
   "source": [
    "# Testing\n",
    "\n",
    "[Link to the website](https://www.thomasnet.com/)"
   ],
   "cell_type": "markdown",
   "metadata": {}
  },
  {
   "cell_type": "code",
   "execution_count": 6,
   "metadata": {},
   "outputs": [],
   "source": [
    "import requests\n",
    "from bs4 import BeautifulSoup\n",
    "from traceback import print_exc\n",
    "\n",
    "from datetime import datetime\n",
    "import time\n",
    "from tqdm import tqdm\n",
    "\n",
    "import numpy as np \n",
    "import pandas as pd\n",
    "import math"
   ]
  },
  {
   "cell_type": "code",
   "execution_count": 7,
   "metadata": {},
   "outputs": [],
   "source": [
    "headers = {\n",
    "    \"user-agent\": \"Mozilla/5.0 (Windows NT 10.0; Win64; x64) AppleWebKit/537.36 (KHTML, like Gecko) Chrome/91.0.4472.114 Safari/537.36\"\n",
    "}\n",
    "\n",
    "payload = {\n",
    "    # \"WTZO\": \"Find Suppliers\",\n",
    "    \"cov\": \"NA\",\n",
    "    \"heading\": 21650809,\n",
    "    \"searchsource\": \"suppliers\",\n",
    "    \"searchterm\": \"hydraulic cylinders\",\n",
    "    # \"searchx\": \"true\",\n",
    "    \"what\": \"hydraulic cylinders\",\n",
    "    # \"which\": \"prod\",\n",
    "    \"pg\": 1\n",
    "}\n",
    "\n",
    "BASE_URL = \"https://www.thomasnet.com/nsearch.html\""
   ]
  },
  {
   "cell_type": "code",
   "execution_count": 8,
   "metadata": {
    "tags": []
   },
   "outputs": [
    {
     "output_type": "stream",
     "name": "stdout",
     "text": [
      "772 suppliers found\n25 found on this page\nTotal Pages: 31\n"
     ]
    }
   ],
   "source": [
    "page = requests.get(BASE_URL, params=payload)\n",
    "soup = BeautifulSoup(page.text,\"lxml\")\n",
    "\n",
    "total_suppliers = soup.find('p',class_=\"supplier-search-results__subheader\").findAll('b')[-1].text\n",
    "print(f\"{total_suppliers} suppliers found\")\n",
    "\n",
    "n_suppliers = len(soup.findAll('div',class_=\"supplier-search-results__card\"))\n",
    "print(f\"{n_suppliers} found on this page\")\n",
    "\n",
    "number_of_pages = math.ceil(float(total_suppliers)/float(n_suppliers))\n",
    "print(f\"Total Pages: {number_of_pages}\")"
   ]
  },
  {
   "cell_type": "code",
   "execution_count": 9,
   "metadata": {},
   "outputs": [],
   "source": [
    "def generate_payloads(keyword: str, page_num: int):\n",
    "    payloads = []\n",
    "    for i in range(page_num):\n",
    "        payload = {\n",
    "            \"cov\": \"NA\",\n",
    "            \"heading\": 21650809,\n",
    "            \"searchsource\": \"suppliers\",\n",
    "            \"searchterm\": keyword,\n",
    "            \"what\": keyword,\n",
    "            \"pg\": i+1\n",
    "        }\n",
    "        payloads.append(payload)\n",
    "\n",
    "    return payloads\n",
    "\n",
    "x = generate_payloads('hydraulic cylinders',number_of_pages)"
   ]
  },
  {
   "cell_type": "code",
   "execution_count": 10,
   "metadata": {},
   "outputs": [
    {
     "output_type": "stream",
     "name": "stderr",
     "text": [
      "100%|██████████| 31/31 [02:18<00:00,  4.47s/it](772, 13)\n",
      "\n"
     ]
    },
    {
     "output_type": "execute_result",
     "data": {
      "text/plain": [
       "    company_id                  company_name  \\\n",
       "767   10100771             Motion Hydraulics   \n",
       "768   30701202      Gaspe Machine Works Inc.   \n",
       "769   30164910          T-Mac Cylinders, Inc   \n",
       "770   30162771                Hydra Kinetics   \n",
       "771     180836  Production Engineering, Inc.   \n",
       "\n",
       "                                          company_type annual_revenue  \\\n",
       "767                     Manufacturer*, Service Company                  \n",
       "768                                      Manufacturer*   Under $1 Mil   \n",
       "769                                      Manufacturer*   Under $1 Mil   \n",
       "770                                Manufacturers' Rep*   Under $1 Mil   \n",
       "771  Custom Manufacturer*, Manufacturer, Service Co...                  \n",
       "\n",
       "    year_founded num_employees          location company_url brands  \\\n",
       "767         1974                  Burlington, ON                      \n",
       "768         1984           1-9         Gaspe, QC                      \n",
       "769         1996           1-9        Roscoe, IL                      \n",
       "770                        1-9  Heidenheimer, TX                      \n",
       "771         1974         50-99       Jackson, MI                      \n",
       "\n",
       "                                           description  \\\n",
       "767                                                      \n",
       "768                                                      \n",
       "769  Manufacturer Of Hydraulic & Pneumatic Cylinder...   \n",
       "770  Mfr's. Rep. Of Cutom Made Hydraulic Cylinders,...   \n",
       "771  Manufacturer of precision flexible machines & ...   \n",
       "\n",
       "                                                   url           telephone  \\\n",
       "767  https://www.thomasnet.com/profile/10100771/mot...  tel://905-335-1171   \n",
       "768  https://www.thomasnet.com/profile/30701202/gas...  tel://418-368-6574   \n",
       "769  https://www.thomasnet.com/profile/30164910/tma...  tel://815-877-7090   \n",
       "770  https://www.thomasnet.com/profile/30162771/hyd...  tel://254-983-1067   \n",
       "771  https://www.thomasnet.com/profile/00180836/pro...  tel://517-788-6800   \n",
       "\n",
       "              searchterm  \n",
       "767  hydraulic cylinders  \n",
       "768  hydraulic cylinders  \n",
       "769  hydraulic cylinders  \n",
       "770  hydraulic cylinders  \n",
       "771  hydraulic cylinders  "
      ],
      "text/html": "<div>\n<style scoped>\n    .dataframe tbody tr th:only-of-type {\n        vertical-align: middle;\n    }\n\n    .dataframe tbody tr th {\n        vertical-align: top;\n    }\n\n    .dataframe thead th {\n        text-align: right;\n    }\n</style>\n<table border=\"1\" class=\"dataframe\">\n  <thead>\n    <tr style=\"text-align: right;\">\n      <th></th>\n      <th>company_id</th>\n      <th>company_name</th>\n      <th>company_type</th>\n      <th>annual_revenue</th>\n      <th>year_founded</th>\n      <th>num_employees</th>\n      <th>location</th>\n      <th>company_url</th>\n      <th>brands</th>\n      <th>description</th>\n      <th>url</th>\n      <th>telephone</th>\n      <th>searchterm</th>\n    </tr>\n  </thead>\n  <tbody>\n    <tr>\n      <th>767</th>\n      <td>10100771</td>\n      <td>Motion Hydraulics</td>\n      <td>Manufacturer*, Service Company</td>\n      <td></td>\n      <td>1974</td>\n      <td></td>\n      <td>Burlington, ON</td>\n      <td></td>\n      <td></td>\n      <td></td>\n      <td>https://www.thomasnet.com/profile/10100771/mot...</td>\n      <td>tel://905-335-1171</td>\n      <td>hydraulic cylinders</td>\n    </tr>\n    <tr>\n      <th>768</th>\n      <td>30701202</td>\n      <td>Gaspe Machine Works Inc.</td>\n      <td>Manufacturer*</td>\n      <td>Under $1 Mil</td>\n      <td>1984</td>\n      <td>1-9</td>\n      <td>Gaspe, QC</td>\n      <td></td>\n      <td></td>\n      <td></td>\n      <td>https://www.thomasnet.com/profile/30701202/gas...</td>\n      <td>tel://418-368-6574</td>\n      <td>hydraulic cylinders</td>\n    </tr>\n    <tr>\n      <th>769</th>\n      <td>30164910</td>\n      <td>T-Mac Cylinders, Inc</td>\n      <td>Manufacturer*</td>\n      <td>Under $1 Mil</td>\n      <td>1996</td>\n      <td>1-9</td>\n      <td>Roscoe, IL</td>\n      <td></td>\n      <td></td>\n      <td>Manufacturer Of Hydraulic &amp; Pneumatic Cylinder...</td>\n      <td>https://www.thomasnet.com/profile/30164910/tma...</td>\n      <td>tel://815-877-7090</td>\n      <td>hydraulic cylinders</td>\n    </tr>\n    <tr>\n      <th>770</th>\n      <td>30162771</td>\n      <td>Hydra Kinetics</td>\n      <td>Manufacturers' Rep*</td>\n      <td>Under $1 Mil</td>\n      <td></td>\n      <td>1-9</td>\n      <td>Heidenheimer, TX</td>\n      <td></td>\n      <td></td>\n      <td>Mfr's. Rep. Of Cutom Made Hydraulic Cylinders,...</td>\n      <td>https://www.thomasnet.com/profile/30162771/hyd...</td>\n      <td>tel://254-983-1067</td>\n      <td>hydraulic cylinders</td>\n    </tr>\n    <tr>\n      <th>771</th>\n      <td>180836</td>\n      <td>Production Engineering, Inc.</td>\n      <td>Custom Manufacturer*, Manufacturer, Service Co...</td>\n      <td></td>\n      <td>1974</td>\n      <td>50-99</td>\n      <td>Jackson, MI</td>\n      <td></td>\n      <td></td>\n      <td>Manufacturer of precision flexible machines &amp; ...</td>\n      <td>https://www.thomasnet.com/profile/00180836/pro...</td>\n      <td>tel://517-788-6800</td>\n      <td>hydraulic cylinders</td>\n    </tr>\n  </tbody>\n</table>\n</div>"
     },
     "metadata": {},
     "execution_count": 10
    }
   ],
   "source": [
    "collected_data = []\n",
    "keyword = 'hydraulic cylinders'\n",
    "heading = 21650809\n",
    "\n",
    "for i in tqdm(x):\n",
    "    page = requests.get(BASE_URL, params=i)\n",
    "    soup = BeautifulSoup(page.text,\"lxml\")\n",
    "\n",
    "    suppliers = soup.findAll('div',class_=\"supplier-search-results__card\")\n",
    "    for sup in suppliers:\n",
    "        card_data = {\n",
    "            \"company_id\":\"\",\n",
    "            \"company_name\":\"\",\n",
    "            \"company_type\":\"\",\n",
    "            \"annual_revenue\":\"\",\n",
    "            \"year_founded\":\"\",\n",
    "            \"num_employees\":\"\",\n",
    "            \"location\":\"\",\n",
    "            \"company_url\":\"\",\n",
    "            \"brands\":\"\",\n",
    "            \"description\":\"\",\n",
    "            \"url\":\"\",\n",
    "            \"telephone\":\"\",\n",
    "            \"searchterm\":keyword\n",
    "        }\n",
    "        try:\n",
    "            header = sup.find('header',class_='profile-card__header')\n",
    "            card_data['company_id'] = eval(sup.get('data-impression-tracking'))['company_id']\n",
    "            card_data['company_name'] = header.find('h2',class_='profile-card__title').text.strip()\n",
    "            card_data['url'] = 'https://www.thomasnet.com'+header.find('h2',class_='profile-card__title').find('a').get('href')\n",
    "            try:\n",
    "                card_data['telephone'] = sup.find('a',{'data-conversion_action':'Call'}).get('href')\n",
    "            except:\n",
    "                pass\n",
    "\n",
    "            sup_data = sup.find('div',class_='profile-card__supplier-data')\n",
    "            card_data['location'] = sup_data.find('span',class_='profile-card__location').text.replace('ico-map','').strip()\n",
    "            card_data['company_type'] = sup_data.find('span',{'data-content':'Company Type'}).text.strip()\n",
    "            try:\n",
    "                card_data['annual_revenue'] = sup_data.find('span',{'data-content':'Annual Revenue'}).text.strip()\n",
    "            except:\n",
    "                pass\n",
    "            try:\n",
    "                card_data['num_employees'] = sup_data.find('span',{'data-content':'Number of Employees'}).text.strip()\n",
    "            except:\n",
    "                pass\n",
    "            try:\n",
    "                card_data['year_founded'] = sup_data.find('span',{'data-content':'Year Founded'}).text.strip()\n",
    "            except:\n",
    "                pass\n",
    "\n",
    "            content = sup.find('div',class_='profile-card__content')\n",
    "            try:\n",
    "                card_data['description'] = content.findAll('p')[0].text.strip()\n",
    "            except:\n",
    "                pass\n",
    "            try:\n",
    "                card_data['company_url'] = content.find('p',{'class':'profile-card_web-link-wrap'}).find('a').get('href')\n",
    "            except:\n",
    "                pass\n",
    "            try:\n",
    "                card_data['brands'] = content.find('p',{'class':'profile-card__brands__body'}).text.strip()\n",
    "            except:\n",
    "                pass\n",
    "        except Exception as e:\n",
    "            print(\"Error encountered while extraction of data\\n\",print_exc())\n",
    "            pass\n",
    "\n",
    "        collected_data.append(card_data)\n",
    "\n",
    "df = pd.DataFrame(collected_data)\n",
    "print(df.shape)\n",
    "df.tail()"
   ]
  },
  {
   "cell_type": "code",
   "execution_count": 12,
   "metadata": {},
   "outputs": [],
   "source": [
    "df.to_csv('data/hydraulic_cylinders_suppliers_metadata.csv',index=False)\n",
    "df.loc[:,['company_id','url']].to_csv('data/suppliers_url.csv', index=False)"
   ]
  },
  {
   "source": [
    "# Meta-Harvester"
   ],
   "cell_type": "markdown",
   "metadata": {}
  },
  {
   "cell_type": "code",
   "execution_count": 17,
   "metadata": {},
   "outputs": [
    {
     "output_type": "execute_result",
     "data": {
      "text/plain": [
       "     company_id                  company_name  \\\n",
       "767    10100771             Motion Hydraulics   \n",
       "768    30701202      Gaspe Machine Works Inc.   \n",
       "769    30164910          T-Mac Cylinders, Inc   \n",
       "770    30162771                Hydra Kinetics   \n",
       "771      180836  Production Engineering, Inc.   \n",
       "\n",
       "                                          company_type annual_revenue  \\\n",
       "767                     Manufacturer*, Service Company            NaN   \n",
       "768                                      Manufacturer*   Under $1 Mil   \n",
       "769                                      Manufacturer*   Under $1 Mil   \n",
       "770                                Manufacturers' Rep*   Under $1 Mil   \n",
       "771  Custom Manufacturer*, Manufacturer, Service Co...            NaN   \n",
       "\n",
       "     year_founded num_employees          location company_url brands  \\\n",
       "767        1974.0           NaN    Burlington, ON         NaN    NaN   \n",
       "768        1984.0           1-9         Gaspe, QC         NaN    NaN   \n",
       "769        1996.0           1-9        Roscoe, IL         NaN    NaN   \n",
       "770           NaN           1-9  Heidenheimer, TX         NaN    NaN   \n",
       "771        1974.0         50-99       Jackson, MI         NaN    NaN   \n",
       "\n",
       "                                           description  \\\n",
       "767                                                NaN   \n",
       "768                                                NaN   \n",
       "769  Manufacturer Of Hydraulic & Pneumatic Cylinder...   \n",
       "770  Mfr's. Rep. Of Cutom Made Hydraulic Cylinders,...   \n",
       "771  Manufacturer of precision flexible machines & ...   \n",
       "\n",
       "                                                   url           telephone  \\\n",
       "767  https://www.thomasnet.com/profile/10100771/mot...  tel://905-335-1171   \n",
       "768  https://www.thomasnet.com/profile/30701202/gas...  tel://418-368-6574   \n",
       "769  https://www.thomasnet.com/profile/30164910/tma...  tel://815-877-7090   \n",
       "770  https://www.thomasnet.com/profile/30162771/hyd...  tel://254-983-1067   \n",
       "771  https://www.thomasnet.com/profile/00180836/pro...  tel://517-788-6800   \n",
       "\n",
       "              searchterm  \n",
       "767  hydraulic cylinders  \n",
       "768  hydraulic cylinders  \n",
       "769  hydraulic cylinders  \n",
       "770  hydraulic cylinders  \n",
       "771  hydraulic cylinders  "
      ],
      "text/html": "<div>\n<style scoped>\n    .dataframe tbody tr th:only-of-type {\n        vertical-align: middle;\n    }\n\n    .dataframe tbody tr th {\n        vertical-align: top;\n    }\n\n    .dataframe thead th {\n        text-align: right;\n    }\n</style>\n<table border=\"1\" class=\"dataframe\">\n  <thead>\n    <tr style=\"text-align: right;\">\n      <th></th>\n      <th>company_id</th>\n      <th>company_name</th>\n      <th>company_type</th>\n      <th>annual_revenue</th>\n      <th>year_founded</th>\n      <th>num_employees</th>\n      <th>location</th>\n      <th>company_url</th>\n      <th>brands</th>\n      <th>description</th>\n      <th>url</th>\n      <th>telephone</th>\n      <th>searchterm</th>\n    </tr>\n  </thead>\n  <tbody>\n    <tr>\n      <th>767</th>\n      <td>10100771</td>\n      <td>Motion Hydraulics</td>\n      <td>Manufacturer*, Service Company</td>\n      <td>NaN</td>\n      <td>1974.0</td>\n      <td>NaN</td>\n      <td>Burlington, ON</td>\n      <td>NaN</td>\n      <td>NaN</td>\n      <td>NaN</td>\n      <td>https://www.thomasnet.com/profile/10100771/mot...</td>\n      <td>tel://905-335-1171</td>\n      <td>hydraulic cylinders</td>\n    </tr>\n    <tr>\n      <th>768</th>\n      <td>30701202</td>\n      <td>Gaspe Machine Works Inc.</td>\n      <td>Manufacturer*</td>\n      <td>Under $1 Mil</td>\n      <td>1984.0</td>\n      <td>1-9</td>\n      <td>Gaspe, QC</td>\n      <td>NaN</td>\n      <td>NaN</td>\n      <td>NaN</td>\n      <td>https://www.thomasnet.com/profile/30701202/gas...</td>\n      <td>tel://418-368-6574</td>\n      <td>hydraulic cylinders</td>\n    </tr>\n    <tr>\n      <th>769</th>\n      <td>30164910</td>\n      <td>T-Mac Cylinders, Inc</td>\n      <td>Manufacturer*</td>\n      <td>Under $1 Mil</td>\n      <td>1996.0</td>\n      <td>1-9</td>\n      <td>Roscoe, IL</td>\n      <td>NaN</td>\n      <td>NaN</td>\n      <td>Manufacturer Of Hydraulic &amp; Pneumatic Cylinder...</td>\n      <td>https://www.thomasnet.com/profile/30164910/tma...</td>\n      <td>tel://815-877-7090</td>\n      <td>hydraulic cylinders</td>\n    </tr>\n    <tr>\n      <th>770</th>\n      <td>30162771</td>\n      <td>Hydra Kinetics</td>\n      <td>Manufacturers' Rep*</td>\n      <td>Under $1 Mil</td>\n      <td>NaN</td>\n      <td>1-9</td>\n      <td>Heidenheimer, TX</td>\n      <td>NaN</td>\n      <td>NaN</td>\n      <td>Mfr's. Rep. Of Cutom Made Hydraulic Cylinders,...</td>\n      <td>https://www.thomasnet.com/profile/30162771/hyd...</td>\n      <td>tel://254-983-1067</td>\n      <td>hydraulic cylinders</td>\n    </tr>\n    <tr>\n      <th>771</th>\n      <td>180836</td>\n      <td>Production Engineering, Inc.</td>\n      <td>Custom Manufacturer*, Manufacturer, Service Co...</td>\n      <td>NaN</td>\n      <td>1974.0</td>\n      <td>50-99</td>\n      <td>Jackson, MI</td>\n      <td>NaN</td>\n      <td>NaN</td>\n      <td>Manufacturer of precision flexible machines &amp; ...</td>\n      <td>https://www.thomasnet.com/profile/00180836/pro...</td>\n      <td>tel://517-788-6800</td>\n      <td>hydraulic cylinders</td>\n    </tr>\n  </tbody>\n</table>\n</div>"
     },
     "metadata": {},
     "execution_count": 17
    }
   ],
   "source": [
    "meta = pd.read_csv('..\\data\\hydraulic_cylinders\\hydraulic_cylinders_suppliers_metadata.csv')\n",
    "meta.tail()"
   ]
  },
  {
   "cell_type": "code",
   "execution_count": 16,
   "metadata": {},
   "outputs": [
    {
     "output_type": "stream",
     "name": "stdout",
     "text": [
      "<class 'pandas.core.frame.DataFrame'>\nRangeIndex: 747 entries, 0 to 746\nData columns (total 13 columns):\n #   Column          Non-Null Count  Dtype  \n---  ------          --------------  -----  \n 0   company_id      747 non-null    int64  \n 1   company_name    747 non-null    object \n 2   company_type    747 non-null    object \n 3   annual_revenue  533 non-null    object \n 4   year_founded    624 non-null    float64\n 5   num_employees   639 non-null    object \n 6   location        746 non-null    object \n 7   company_url     61 non-null     object \n 8   brands          132 non-null    object \n 9   description     658 non-null    object \n 10  url             747 non-null    object \n 11  telephone       743 non-null    object \n 12  searchterm      747 non-null    object \ndtypes: float64(1), int64(1), object(11)\nmemory usage: 76.0+ KB\n"
     ]
    }
   ],
   "source": [
    "meta.info()"
   ]
  },
  {
   "source": [
    "# Master Scraper"
   ],
   "cell_type": "markdown",
   "metadata": {}
  },
  {
   "cell_type": "code",
   "execution_count": 18,
   "metadata": {},
   "outputs": [
    {
     "output_type": "execute_result",
     "data": {
      "text/plain": [
       "     company_id                                                url\n",
       "0       1315677  https://www.thomasnet.com/profile/01315677/wor...\n",
       "1      10055126  https://www.thomasnet.com/profile/10055126/ram...\n",
       "2       1010077  https://www.thomasnet.com/profile/01010077/flu...\n",
       "3      30082354  https://www.thomasnet.com/profile/30082354/ari...\n",
       "4       1150392  https://www.thomasnet.com/branchloc.html?cid=1...\n",
       "..          ...                                                ...\n",
       "767    10100771  https://www.thomasnet.com/profile/10100771/mot...\n",
       "768    30701202  https://www.thomasnet.com/profile/30701202/gas...\n",
       "769    30164910  https://www.thomasnet.com/profile/30164910/tma...\n",
       "770    30162771  https://www.thomasnet.com/profile/30162771/hyd...\n",
       "771      180836  https://www.thomasnet.com/profile/00180836/pro...\n",
       "\n",
       "[772 rows x 2 columns]"
      ],
      "text/html": "<div>\n<style scoped>\n    .dataframe tbody tr th:only-of-type {\n        vertical-align: middle;\n    }\n\n    .dataframe tbody tr th {\n        vertical-align: top;\n    }\n\n    .dataframe thead th {\n        text-align: right;\n    }\n</style>\n<table border=\"1\" class=\"dataframe\">\n  <thead>\n    <tr style=\"text-align: right;\">\n      <th></th>\n      <th>company_id</th>\n      <th>url</th>\n    </tr>\n  </thead>\n  <tbody>\n    <tr>\n      <th>0</th>\n      <td>1315677</td>\n      <td>https://www.thomasnet.com/profile/01315677/wor...</td>\n    </tr>\n    <tr>\n      <th>1</th>\n      <td>10055126</td>\n      <td>https://www.thomasnet.com/profile/10055126/ram...</td>\n    </tr>\n    <tr>\n      <th>2</th>\n      <td>1010077</td>\n      <td>https://www.thomasnet.com/profile/01010077/flu...</td>\n    </tr>\n    <tr>\n      <th>3</th>\n      <td>30082354</td>\n      <td>https://www.thomasnet.com/profile/30082354/ari...</td>\n    </tr>\n    <tr>\n      <th>4</th>\n      <td>1150392</td>\n      <td>https://www.thomasnet.com/branchloc.html?cid=1...</td>\n    </tr>\n    <tr>\n      <th>...</th>\n      <td>...</td>\n      <td>...</td>\n    </tr>\n    <tr>\n      <th>767</th>\n      <td>10100771</td>\n      <td>https://www.thomasnet.com/profile/10100771/mot...</td>\n    </tr>\n    <tr>\n      <th>768</th>\n      <td>30701202</td>\n      <td>https://www.thomasnet.com/profile/30701202/gas...</td>\n    </tr>\n    <tr>\n      <th>769</th>\n      <td>30164910</td>\n      <td>https://www.thomasnet.com/profile/30164910/tma...</td>\n    </tr>\n    <tr>\n      <th>770</th>\n      <td>30162771</td>\n      <td>https://www.thomasnet.com/profile/30162771/hyd...</td>\n    </tr>\n    <tr>\n      <th>771</th>\n      <td>180836</td>\n      <td>https://www.thomasnet.com/profile/00180836/pro...</td>\n    </tr>\n  </tbody>\n</table>\n<p>772 rows × 2 columns</p>\n</div>"
     },
     "metadata": {},
     "execution_count": 18
    }
   ],
   "source": [
    "meta.loc[:,['company_id','url']]"
   ]
  }
 ]
}