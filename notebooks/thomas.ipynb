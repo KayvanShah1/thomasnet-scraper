{
 "metadata": {
  "language_info": {
   "codemirror_mode": {
    "name": "ipython",
    "version": 3
   },
   "file_extension": ".py",
   "mimetype": "text/x-python",
   "name": "python",
   "nbconvert_exporter": "python",
   "pygments_lexer": "ipython3",
   "version": "3.8.7"
  },
  "orig_nbformat": 4,
  "kernelspec": {
   "name": "python3",
   "display_name": "Python 3.8.7 64-bit ('ENV': venv)"
  },
  "interpreter": {
   "hash": "a1bbaa7691f347bdd53fc61c187f1bbfb967e58ee26cee4d0bb5d3fcab5361c7"
  }
 },
 "nbformat": 4,
 "nbformat_minor": 2,
 "cells": [
  {
   "source": [
    "# Testing\n",
    "\n",
    "[Link to the website](https://www.thomasnet.com/)"
   ],
   "cell_type": "markdown",
   "metadata": {}
  },
  {
   "cell_type": "code",
   "execution_count": 1,
   "metadata": {},
   "outputs": [],
   "source": [
    "import requests\n",
    "from bs4 import BeautifulSoup\n",
    "from traceback import print_exc\n",
    "\n",
    "from datetime import datetime\n",
    "import time\n",
    "from tqdm import tqdm\n",
    "\n",
    "import numpy as np \n",
    "import pandas as pd\n",
    "import math"
   ]
  },
  {
   "cell_type": "code",
   "execution_count": 2,
   "metadata": {},
   "outputs": [],
   "source": [
    "headers = {\n",
    "    \"user-agent\": \"Mozilla/5.0 (Windows NT 10.0; Win64; x64) AppleWebKit/537.36 (KHTML, like Gecko) Chrome/91.0.4472.114 Safari/537.36\"\n",
    "}\n",
    "\n",
    "payload = {\n",
    "    # \"WTZO\": \"Find Suppliers\",\n",
    "    \"cov\": \"NA\",\n",
    "    \"heading\": 21650809,\n",
    "    \"searchsource\": \"suppliers\",\n",
    "    \"searchterm\": \"hydraulic cylinders\",\n",
    "    # \"searchx\": \"true\",\n",
    "    \"what\": \"hydraulic cylinders\",\n",
    "    # \"which\": \"prod\",\n",
    "    \"pg\": 1\n",
    "}\n",
    "\n",
    "BASE_URL = \"https://www.thomasnet.com/nsearch.html\""
   ]
  },
  {
   "cell_type": "code",
   "execution_count": 3,
   "metadata": {
    "tags": []
   },
   "outputs": [
    {
     "output_type": "stream",
     "name": "stdout",
     "text": [
      "772 suppliers found\n25 found on this page\nTotal Pages: 31\n"
     ]
    }
   ],
   "source": [
    "page = requests.get(BASE_URL, params=payload)\n",
    "soup = BeautifulSoup(page.text,\"lxml\")\n",
    "\n",
    "total_suppliers = soup.find('p',class_=\"supplier-search-results__subheader\").findAll('b')[-1].text\n",
    "print(f\"{total_suppliers} suppliers found\")\n",
    "\n",
    "n_suppliers = len(soup.findAll('div',class_=\"supplier-search-results__card\"))\n",
    "print(f\"{n_suppliers} found on this page\")\n",
    "\n",
    "number_of_pages = math.ceil(float(total_suppliers)/float(n_suppliers))\n",
    "print(f\"Total Pages: {number_of_pages}\")"
   ]
  },
  {
   "cell_type": "code",
   "execution_count": 4,
   "metadata": {},
   "outputs": [],
   "source": [
    "def generate_payloads(keyword: str, page_num: int):\n",
    "    payloads = []\n",
    "    for i in range(page_num):\n",
    "        payload = {\n",
    "            \"cov\": \"NA\",\n",
    "            \"heading\": 21650809,\n",
    "            \"searchsource\": \"suppliers\",\n",
    "            \"searchterm\": keyword,\n",
    "            \"what\": keyword,\n",
    "            \"pg\": i+1\n",
    "        }\n",
    "        payloads.append(payload)\n",
    "\n",
    "    return payloads\n",
    "\n",
    "x = generate_payloads('hydraulic cylinders',number_of_pages)"
   ]
  },
  {
   "cell_type": "code",
   "execution_count": 10,
   "metadata": {},
   "outputs": [
    {
     "output_type": "stream",
     "name": "stderr",
     "text": [
      "100%|██████████| 31/31 [02:18<00:00,  4.47s/it](772, 13)\n",
      "\n"
     ]
    },
    {
     "output_type": "execute_result",
     "data": {
      "text/plain": [
       "    company_id                  company_name  \\\n",
       "767   10100771             Motion Hydraulics   \n",
       "768   30701202      Gaspe Machine Works Inc.   \n",
       "769   30164910          T-Mac Cylinders, Inc   \n",
       "770   30162771                Hydra Kinetics   \n",
       "771     180836  Production Engineering, Inc.   \n",
       "\n",
       "                                          company_type annual_revenue  \\\n",
       "767                     Manufacturer*, Service Company                  \n",
       "768                                      Manufacturer*   Under $1 Mil   \n",
       "769                                      Manufacturer*   Under $1 Mil   \n",
       "770                                Manufacturers' Rep*   Under $1 Mil   \n",
       "771  Custom Manufacturer*, Manufacturer, Service Co...                  \n",
       "\n",
       "    year_founded num_employees          location company_url brands  \\\n",
       "767         1974                  Burlington, ON                      \n",
       "768         1984           1-9         Gaspe, QC                      \n",
       "769         1996           1-9        Roscoe, IL                      \n",
       "770                        1-9  Heidenheimer, TX                      \n",
       "771         1974         50-99       Jackson, MI                      \n",
       "\n",
       "                                           description  \\\n",
       "767                                                      \n",
       "768                                                      \n",
       "769  Manufacturer Of Hydraulic & Pneumatic Cylinder...   \n",
       "770  Mfr's. Rep. Of Cutom Made Hydraulic Cylinders,...   \n",
       "771  Manufacturer of precision flexible machines & ...   \n",
       "\n",
       "                                                   url           telephone  \\\n",
       "767  https://www.thomasnet.com/profile/10100771/mot...  tel://905-335-1171   \n",
       "768  https://www.thomasnet.com/profile/30701202/gas...  tel://418-368-6574   \n",
       "769  https://www.thomasnet.com/profile/30164910/tma...  tel://815-877-7090   \n",
       "770  https://www.thomasnet.com/profile/30162771/hyd...  tel://254-983-1067   \n",
       "771  https://www.thomasnet.com/profile/00180836/pro...  tel://517-788-6800   \n",
       "\n",
       "              searchterm  \n",
       "767  hydraulic cylinders  \n",
       "768  hydraulic cylinders  \n",
       "769  hydraulic cylinders  \n",
       "770  hydraulic cylinders  \n",
       "771  hydraulic cylinders  "
      ],
      "text/html": "<div>\n<style scoped>\n    .dataframe tbody tr th:only-of-type {\n        vertical-align: middle;\n    }\n\n    .dataframe tbody tr th {\n        vertical-align: top;\n    }\n\n    .dataframe thead th {\n        text-align: right;\n    }\n</style>\n<table border=\"1\" class=\"dataframe\">\n  <thead>\n    <tr style=\"text-align: right;\">\n      <th></th>\n      <th>company_id</th>\n      <th>company_name</th>\n      <th>company_type</th>\n      <th>annual_revenue</th>\n      <th>year_founded</th>\n      <th>num_employees</th>\n      <th>location</th>\n      <th>company_url</th>\n      <th>brands</th>\n      <th>description</th>\n      <th>url</th>\n      <th>telephone</th>\n      <th>searchterm</th>\n    </tr>\n  </thead>\n  <tbody>\n    <tr>\n      <th>767</th>\n      <td>10100771</td>\n      <td>Motion Hydraulics</td>\n      <td>Manufacturer*, Service Company</td>\n      <td></td>\n      <td>1974</td>\n      <td></td>\n      <td>Burlington, ON</td>\n      <td></td>\n      <td></td>\n      <td></td>\n      <td>https://www.thomasnet.com/profile/10100771/mot...</td>\n      <td>tel://905-335-1171</td>\n      <td>hydraulic cylinders</td>\n    </tr>\n    <tr>\n      <th>768</th>\n      <td>30701202</td>\n      <td>Gaspe Machine Works Inc.</td>\n      <td>Manufacturer*</td>\n      <td>Under $1 Mil</td>\n      <td>1984</td>\n      <td>1-9</td>\n      <td>Gaspe, QC</td>\n      <td></td>\n      <td></td>\n      <td></td>\n      <td>https://www.thomasnet.com/profile/30701202/gas...</td>\n      <td>tel://418-368-6574</td>\n      <td>hydraulic cylinders</td>\n    </tr>\n    <tr>\n      <th>769</th>\n      <td>30164910</td>\n      <td>T-Mac Cylinders, Inc</td>\n      <td>Manufacturer*</td>\n      <td>Under $1 Mil</td>\n      <td>1996</td>\n      <td>1-9</td>\n      <td>Roscoe, IL</td>\n      <td></td>\n      <td></td>\n      <td>Manufacturer Of Hydraulic &amp; Pneumatic Cylinder...</td>\n      <td>https://www.thomasnet.com/profile/30164910/tma...</td>\n      <td>tel://815-877-7090</td>\n      <td>hydraulic cylinders</td>\n    </tr>\n    <tr>\n      <th>770</th>\n      <td>30162771</td>\n      <td>Hydra Kinetics</td>\n      <td>Manufacturers' Rep*</td>\n      <td>Under $1 Mil</td>\n      <td></td>\n      <td>1-9</td>\n      <td>Heidenheimer, TX</td>\n      <td></td>\n      <td></td>\n      <td>Mfr's. Rep. Of Cutom Made Hydraulic Cylinders,...</td>\n      <td>https://www.thomasnet.com/profile/30162771/hyd...</td>\n      <td>tel://254-983-1067</td>\n      <td>hydraulic cylinders</td>\n    </tr>\n    <tr>\n      <th>771</th>\n      <td>180836</td>\n      <td>Production Engineering, Inc.</td>\n      <td>Custom Manufacturer*, Manufacturer, Service Co...</td>\n      <td></td>\n      <td>1974</td>\n      <td>50-99</td>\n      <td>Jackson, MI</td>\n      <td></td>\n      <td></td>\n      <td>Manufacturer of precision flexible machines &amp; ...</td>\n      <td>https://www.thomasnet.com/profile/00180836/pro...</td>\n      <td>tel://517-788-6800</td>\n      <td>hydraulic cylinders</td>\n    </tr>\n  </tbody>\n</table>\n</div>"
     },
     "metadata": {},
     "execution_count": 10
    }
   ],
   "source": [
    "collected_data = []\n",
    "keyword = 'hydraulic cylinders'\n",
    "heading = 21650809\n",
    "\n",
    "for i in tqdm(x):\n",
    "    page = requests.get(BASE_URL, params=i)\n",
    "    soup = BeautifulSoup(page.text,\"lxml\")\n",
    "\n",
    "    suppliers = soup.findAll('div',class_=\"supplier-search-results__card\")\n",
    "    for sup in suppliers:\n",
    "        card_data = {\n",
    "            \"company_id\":\"\",\n",
    "            \"company_name\":\"\",\n",
    "            \"company_type\":\"\",\n",
    "            \"annual_revenue\":\"\",\n",
    "            \"year_founded\":\"\",\n",
    "            \"num_employees\":\"\",\n",
    "            \"location\":\"\",\n",
    "            \"company_url\":\"\",\n",
    "            \"brands\":\"\",\n",
    "            \"description\":\"\",\n",
    "            \"url\":\"\",\n",
    "            \"telephone\":\"\",\n",
    "            \"searchterm\":keyword\n",
    "        }\n",
    "        try:\n",
    "            header = sup.find('header',class_='profile-card__header')\n",
    "            card_data['company_id'] = eval(sup.get('data-impression-tracking'))['company_id']\n",
    "            card_data['company_name'] = header.find('h2',class_='profile-card__title').text.strip()\n",
    "            card_data['url'] = 'https://www.thomasnet.com'+header.find('h2',class_='profile-card__title').find('a').get('href')\n",
    "            try:\n",
    "                card_data['telephone'] = sup.find('a',{'data-conversion_action':'Call'}).get('href')\n",
    "            except:\n",
    "                pass\n",
    "\n",
    "            sup_data = sup.find('div',class_='profile-card__supplier-data')\n",
    "            card_data['location'] = sup_data.find('span',class_='profile-card__location').text.replace('ico-map','').strip()\n",
    "            card_data['company_type'] = sup_data.find('span',{'data-content':'Company Type'}).text.strip()\n",
    "            try:\n",
    "                card_data['annual_revenue'] = sup_data.find('span',{'data-content':'Annual Revenue'}).text.strip()\n",
    "            except:\n",
    "                pass\n",
    "            try:\n",
    "                card_data['num_employees'] = sup_data.find('span',{'data-content':'Number of Employees'}).text.strip()\n",
    "            except:\n",
    "                pass\n",
    "            try:\n",
    "                card_data['year_founded'] = sup_data.find('span',{'data-content':'Year Founded'}).text.strip()\n",
    "            except:\n",
    "                pass\n",
    "\n",
    "            content = sup.find('div',class_='profile-card__content')\n",
    "            try:\n",
    "                card_data['description'] = content.findAll('p')[0].text.strip()\n",
    "            except:\n",
    "                pass\n",
    "            try:\n",
    "                card_data['company_url'] = content.find('p',{'class':'profile-card_web-link-wrap'}).find('a').get('href')\n",
    "            except:\n",
    "                pass\n",
    "            try:\n",
    "                card_data['brands'] = content.find('p',{'class':'profile-card__brands__body'}).text.strip()\n",
    "            except:\n",
    "                pass\n",
    "        except Exception as e:\n",
    "            print(\"Error encountered while extraction of data\\n\",print_exc())\n",
    "            pass\n",
    "\n",
    "        collected_data.append(card_data)\n",
    "\n",
    "df = pd.DataFrame(collected_data)\n",
    "print(df.shape)\n",
    "df.tail()"
   ]
  },
  {
   "cell_type": "code",
   "execution_count": 12,
   "metadata": {},
   "outputs": [],
   "source": [
    "df.to_csv('data/hydraulic_cylinders_suppliers_metadata.csv',index=False)\n",
    "df.loc[:,['company_id','url']].to_csv('data/suppliers_url.csv', index=False)"
   ]
  },
  {
   "source": [
    "# Meta-Harvester"
   ],
   "cell_type": "markdown",
   "metadata": {}
  },
  {
   "cell_type": "code",
   "execution_count": 5,
   "metadata": {},
   "outputs": [
    {
     "output_type": "execute_result",
     "data": {
      "text/plain": [
       "     company_id                  company_name  \\\n",
       "767    10100771             Motion Hydraulics   \n",
       "768    30701202      Gaspe Machine Works Inc.   \n",
       "769    30164910          T-Mac Cylinders, Inc   \n",
       "770    30162771                Hydra Kinetics   \n",
       "771      180836  Production Engineering, Inc.   \n",
       "\n",
       "                                          company_type annual_revenue  \\\n",
       "767                     Manufacturer*, Service Company            NaN   \n",
       "768                                      Manufacturer*   Under $1 Mil   \n",
       "769                                      Manufacturer*   Under $1 Mil   \n",
       "770                                Manufacturers' Rep*   Under $1 Mil   \n",
       "771  Custom Manufacturer*, Manufacturer, Service Co...            NaN   \n",
       "\n",
       "     year_founded num_employees          location company_url brands  \\\n",
       "767        1974.0           NaN    Burlington, ON         NaN    NaN   \n",
       "768        1984.0           1-9         Gaspe, QC         NaN    NaN   \n",
       "769        1996.0           1-9        Roscoe, IL         NaN    NaN   \n",
       "770           NaN           1-9  Heidenheimer, TX         NaN    NaN   \n",
       "771        1974.0         50-99       Jackson, MI         NaN    NaN   \n",
       "\n",
       "                                           description  \\\n",
       "767                                                NaN   \n",
       "768                                                NaN   \n",
       "769  Manufacturer Of Hydraulic & Pneumatic Cylinder...   \n",
       "770  Mfr's. Rep. Of Cutom Made Hydraulic Cylinders,...   \n",
       "771  Manufacturer of precision flexible machines & ...   \n",
       "\n",
       "                                                   url           telephone  \\\n",
       "767  https://www.thomasnet.com/profile/10100771/mot...  tel://905-335-1171   \n",
       "768  https://www.thomasnet.com/profile/30701202/gas...  tel://418-368-6574   \n",
       "769  https://www.thomasnet.com/profile/30164910/tma...  tel://815-877-7090   \n",
       "770  https://www.thomasnet.com/profile/30162771/hyd...  tel://254-983-1067   \n",
       "771  https://www.thomasnet.com/profile/00180836/pro...  tel://517-788-6800   \n",
       "\n",
       "              searchterm  \n",
       "767  hydraulic cylinders  \n",
       "768  hydraulic cylinders  \n",
       "769  hydraulic cylinders  \n",
       "770  hydraulic cylinders  \n",
       "771  hydraulic cylinders  "
      ],
      "text/html": "<div>\n<style scoped>\n    .dataframe tbody tr th:only-of-type {\n        vertical-align: middle;\n    }\n\n    .dataframe tbody tr th {\n        vertical-align: top;\n    }\n\n    .dataframe thead th {\n        text-align: right;\n    }\n</style>\n<table border=\"1\" class=\"dataframe\">\n  <thead>\n    <tr style=\"text-align: right;\">\n      <th></th>\n      <th>company_id</th>\n      <th>company_name</th>\n      <th>company_type</th>\n      <th>annual_revenue</th>\n      <th>year_founded</th>\n      <th>num_employees</th>\n      <th>location</th>\n      <th>company_url</th>\n      <th>brands</th>\n      <th>description</th>\n      <th>url</th>\n      <th>telephone</th>\n      <th>searchterm</th>\n    </tr>\n  </thead>\n  <tbody>\n    <tr>\n      <th>767</th>\n      <td>10100771</td>\n      <td>Motion Hydraulics</td>\n      <td>Manufacturer*, Service Company</td>\n      <td>NaN</td>\n      <td>1974.0</td>\n      <td>NaN</td>\n      <td>Burlington, ON</td>\n      <td>NaN</td>\n      <td>NaN</td>\n      <td>NaN</td>\n      <td>https://www.thomasnet.com/profile/10100771/mot...</td>\n      <td>tel://905-335-1171</td>\n      <td>hydraulic cylinders</td>\n    </tr>\n    <tr>\n      <th>768</th>\n      <td>30701202</td>\n      <td>Gaspe Machine Works Inc.</td>\n      <td>Manufacturer*</td>\n      <td>Under $1 Mil</td>\n      <td>1984.0</td>\n      <td>1-9</td>\n      <td>Gaspe, QC</td>\n      <td>NaN</td>\n      <td>NaN</td>\n      <td>NaN</td>\n      <td>https://www.thomasnet.com/profile/30701202/gas...</td>\n      <td>tel://418-368-6574</td>\n      <td>hydraulic cylinders</td>\n    </tr>\n    <tr>\n      <th>769</th>\n      <td>30164910</td>\n      <td>T-Mac Cylinders, Inc</td>\n      <td>Manufacturer*</td>\n      <td>Under $1 Mil</td>\n      <td>1996.0</td>\n      <td>1-9</td>\n      <td>Roscoe, IL</td>\n      <td>NaN</td>\n      <td>NaN</td>\n      <td>Manufacturer Of Hydraulic &amp; Pneumatic Cylinder...</td>\n      <td>https://www.thomasnet.com/profile/30164910/tma...</td>\n      <td>tel://815-877-7090</td>\n      <td>hydraulic cylinders</td>\n    </tr>\n    <tr>\n      <th>770</th>\n      <td>30162771</td>\n      <td>Hydra Kinetics</td>\n      <td>Manufacturers' Rep*</td>\n      <td>Under $1 Mil</td>\n      <td>NaN</td>\n      <td>1-9</td>\n      <td>Heidenheimer, TX</td>\n      <td>NaN</td>\n      <td>NaN</td>\n      <td>Mfr's. Rep. Of Cutom Made Hydraulic Cylinders,...</td>\n      <td>https://www.thomasnet.com/profile/30162771/hyd...</td>\n      <td>tel://254-983-1067</td>\n      <td>hydraulic cylinders</td>\n    </tr>\n    <tr>\n      <th>771</th>\n      <td>180836</td>\n      <td>Production Engineering, Inc.</td>\n      <td>Custom Manufacturer*, Manufacturer, Service Co...</td>\n      <td>NaN</td>\n      <td>1974.0</td>\n      <td>50-99</td>\n      <td>Jackson, MI</td>\n      <td>NaN</td>\n      <td>NaN</td>\n      <td>Manufacturer of precision flexible machines &amp; ...</td>\n      <td>https://www.thomasnet.com/profile/00180836/pro...</td>\n      <td>tel://517-788-6800</td>\n      <td>hydraulic cylinders</td>\n    </tr>\n  </tbody>\n</table>\n</div>"
     },
     "metadata": {},
     "execution_count": 5
    }
   ],
   "source": [
    "meta = pd.read_csv('..\\data\\hydraulic_cylinders\\hydraulic_cylinders_suppliers_metadata.csv')\n",
    "meta.tail()"
   ]
  },
  {
   "cell_type": "code",
   "execution_count": 7,
   "metadata": {},
   "outputs": [
    {
     "output_type": "stream",
     "name": "stdout",
     "text": [
      "<class 'pandas.core.frame.DataFrame'>\nRangeIndex: 772 entries, 0 to 771\nData columns (total 13 columns):\n #   Column          Non-Null Count  Dtype  \n---  ------          --------------  -----  \n 0   company_id      772 non-null    int64  \n 1   company_name    772 non-null    object \n 2   company_type    772 non-null    object \n 3   annual_revenue  552 non-null    object \n 4   year_founded    645 non-null    float64\n 5   num_employees   659 non-null    object \n 6   location        771 non-null    object \n 7   company_url     61 non-null     object \n 8   brands          138 non-null    object \n 9   description     683 non-null    object \n 10  url             772 non-null    object \n 11  telephone       768 non-null    object \n 12  searchterm      772 non-null    object \ndtypes: float64(1), int64(1), object(11)\nmemory usage: 78.5+ KB\n"
     ]
    }
   ],
   "source": [
    "meta.info()"
   ]
  },
  {
   "cell_type": "code",
   "execution_count": 8,
   "metadata": {},
   "outputs": [
    {
     "output_type": "execute_result",
     "data": {
      "text/plain": [
       "   company_id                                                url\n",
       "0     1315677  https://www.thomasnet.com/profile/01315677/wor...\n",
       "1    10055126  https://www.thomasnet.com/profile/10055126/ram...\n",
       "2     1010077  https://www.thomasnet.com/profile/01010077/flu...\n",
       "3    30082354  https://www.thomasnet.com/profile/30082354/ari...\n",
       "4     1150392  https://www.thomasnet.com/branchloc.html?cid=1..."
      ],
      "text/html": "<div>\n<style scoped>\n    .dataframe tbody tr th:only-of-type {\n        vertical-align: middle;\n    }\n\n    .dataframe tbody tr th {\n        vertical-align: top;\n    }\n\n    .dataframe thead th {\n        text-align: right;\n    }\n</style>\n<table border=\"1\" class=\"dataframe\">\n  <thead>\n    <tr style=\"text-align: right;\">\n      <th></th>\n      <th>company_id</th>\n      <th>url</th>\n    </tr>\n  </thead>\n  <tbody>\n    <tr>\n      <th>0</th>\n      <td>1315677</td>\n      <td>https://www.thomasnet.com/profile/01315677/wor...</td>\n    </tr>\n    <tr>\n      <th>1</th>\n      <td>10055126</td>\n      <td>https://www.thomasnet.com/profile/10055126/ram...</td>\n    </tr>\n    <tr>\n      <th>2</th>\n      <td>1010077</td>\n      <td>https://www.thomasnet.com/profile/01010077/flu...</td>\n    </tr>\n    <tr>\n      <th>3</th>\n      <td>30082354</td>\n      <td>https://www.thomasnet.com/profile/30082354/ari...</td>\n    </tr>\n    <tr>\n      <th>4</th>\n      <td>1150392</td>\n      <td>https://www.thomasnet.com/branchloc.html?cid=1...</td>\n    </tr>\n  </tbody>\n</table>\n</div>"
     },
     "metadata": {},
     "execution_count": 8
    }
   ],
   "source": [
    "ref_urls = meta.loc[:,['company_id','url']]\n",
    "ref_urls.head()"
   ]
  },
  {
   "source": [
    "# Master Scraper"
   ],
   "cell_type": "markdown",
   "metadata": {}
  },
  {
   "cell_type": "code",
   "execution_count": 10,
   "metadata": {},
   "outputs": [],
   "source": [
    "refs = ref_urls.values.tolist()"
   ]
  },
  {
   "cell_type": "code",
   "execution_count": 11,
   "metadata": {},
   "outputs": [
    {
     "output_type": "stream",
     "name": "stderr",
     "text": [
      "100%|██████████| 50/50 [02:43<00:00,  3.27s/it]\n"
     ]
    }
   ],
   "source": [
    "collected_data = []\n",
    "\n",
    "for ref in tqdm(refs[:50]):\n",
    "    page = requests.get(ref[1]).text\n",
    "    soup = BeautifulSoup(page,'lxml')\n",
    "\n",
    "    page_data = {\n",
    "        'company_id':ref[0],\n",
    "        'company_name':'',\n",
    "        'company_type':'',\n",
    "        'company_url':'',\n",
    "        'location':'',\n",
    "        'telephone':'',\n",
    "        'product_description':'',\n",
    "        'about_company':'',\n",
    "        'product_types':'',\n",
    "        'all_product_services':'',\n",
    "        'link_prod_services':'',\n",
    "        'brands':'',\n",
    "        'link_all_brands':'',\n",
    "        'primary_company_type':'',\n",
    "        'additional_activities':'',\n",
    "        'key_personnel':'',\n",
    "        'social_media':'',\n",
    "        'other_locations':'',\n",
    "        \"annual_revenue\":\"\",\n",
    "        \"year_founded\":\"\",\n",
    "        \"num_employees\":\"\",\n",
    "        'url':ref[1]\n",
    "    }\n",
    "    try:\n",
    "        gen_info = soup.find('div',{'class':'copro_naft'})\n",
    "        page_data[\"company_name\"] = gen_info.find('div',{'class':'codetail'}).find('h1').find('a').text.strip()\n",
    "        page_data[\"company_url\"] = gen_info.find('div',{'class':'codetail'}).find('h1').find('a').get('href')\n",
    "        page_data[\"company_type\"] = gen_info.find('div',{'class':'codetail'}).find('p').findAll('span')[2].text.strip()\n",
    "        page_data[\"location\"] = gen_info.find('p',{'class':'addrline'}).text.split('|')[0].strip()\n",
    "        page_data[\"telephone\"] = gen_info.find('a',{'data-conversion_action':'Call'}).get('href')\n",
    "\n",
    "        ################# Business Description ####################\n",
    "        business_desc = soup.find('div',{'id':'copro_description'})\n",
    "        page_data['product_description'] = business_desc.find('div',{'id':'copro_pdm'}).text.strip()\n",
    "        page_data['about_company'] = business_desc.find('div',{'id':'copro_about'}).text.strip()\n",
    "\n",
    "        ################# Products and Services/Brands ####################\n",
    "        prod_serv = soup.find('div',{'id':'copro_prodserv'})\n",
    "        try:\n",
    "            prod_cats = prod_serv.find('div',{'id':'copro_prodserv_cats'})\n",
    "            prod_types = prod_cats.findAll('div',{'class':'prodserv_group'})[0]\n",
    "            page_data['product_types'] = [i.text.strip() for i in prod_types.findAll('li')]\n",
    "            all_prodserv = prod_cats.findAll('div',{'class':'prodserv_group'})[1]\n",
    "            page_data['all_product_services'] = [i.text.strip() for i in all_prodserv.findAll('li')]\n",
    "            page_data['link_prod_services'] = \"https://www.thomasnet.com\"+all_prodserv.find('a').get('href')\n",
    "        except Exception as e:\n",
    "            pass\n",
    "\n",
    "        try:\n",
    "            prod_brands = prod_serv.find('div',{'id':'copro_prodserv_brands'})\n",
    "            brands = prod_brands.find('div',{'class':'prodserv_group'})\n",
    "            page_data['brands'] = [i.text.strip() for i in brands.findAll('li')]\n",
    "            page_data['link_all_brands'] = \"https://www.thomasnet.com\"+brands.find('a').get('href')\n",
    "        except Exception as e:\n",
    "            pass\n",
    "\n",
    "        ################# Business Details ####################\n",
    "        bus_det = soup.find('div',{'id':'copro_bizdetails'})\n",
    "        col1 = bus_det.find('div',{'class':'bdcol1'})\n",
    "        col1_ = col1.findAll('div',{'class':'bizdetail'})\n",
    "        for div in col1_:\n",
    "            label = div.find('div',{'class':'label'}).text.strip()\n",
    "            if label==\"Primary Company Type:\":\n",
    "                page_data['primary_company_type'] = div.find('li').text.strip()\n",
    "            if label==\"Additional Activities:\":\n",
    "                page_data['additional_activities'] = div.find('li').text.strip()\n",
    "            if label==\"Key Personnel:\":\n",
    "                page_data['key_personnel'] = [i.text.strip() for i in div.findAll('li')]\n",
    "            if label==\"Locations:\":\n",
    "                page_data['other_locations'] = \"https://www.thomasnet.com\"+div.find('a').get('href')\n",
    "            if label==\"Social:\":\n",
    "                page_data['social_media'] = [i.get('href') for i in div.findAll('a')]\n",
    "\n",
    "        col2 = bus_det.find('div',{'class':'bdcol2'})\n",
    "        # col2_ = col2.findAll('div',{'class':'certblock'})\n",
    "        # for div in col2_:\n",
    "        #     if div.find('h2'):\n",
    "        #         if div.find('h2').text.strip()==\"Diverse / Small Bus. Status\":\n",
    "        #             page_data['diverse_small_business_status'] = div.find('li').text.strip()\n",
    "        #     if div.find('div',{'class':'label'}):\n",
    "        #         label = div.find('div',{'class':'label'}).text.strip()\n",
    "        #         if label==\"Quality Certifications:\":\n",
    "        #             page_data['quality_certifications'] = div.find('li').text.strip()\n",
    "        #         if label==\"Registrations:\":\n",
    "        #             page_data['registrations'] = div.find('li').text.strip()\n",
    "\n",
    "        col22_ = col2.findAll('div',{'class':'bizdetail'})\n",
    "        for div in col22_:\n",
    "            if div.find('div',{'class':'label'}):\n",
    "                label = div.find('div',{'class':'label'}).text.strip()\n",
    "                if label==\"Annual Sales:\":\n",
    "                    page_data['annual_revenue'] = div.find('li').text.strip()\n",
    "                if label==\"No of Employees:\":\n",
    "                    page_data['num_employees'] = div.find('li').text.strip()\n",
    "                if label==\"Year Founded:\":\n",
    "                    page_data['year_founded'] = div.find('li').text.strip()\n",
    "\n",
    "        ################# Consolidation of Data ####################\n",
    "        collected_data.append(page_data)\n",
    "    except Exception as e:\n",
    "        print(f'\\nError encountered while scraping {ref[1]}\\n{print_exc()}')\n",
    "        pass\n",
    "\n",
    "master_df = pd.DataFrame(collected_data)"
   ]
  },
  {
   "cell_type": "code",
   "execution_count": 14,
   "metadata": {},
   "outputs": [
    {
     "output_type": "execute_result",
     "data": {
      "text/plain": [
       "    company_id                                       company_name  \\\n",
       "45    10084727                                         MISUMI USA   \n",
       "46    10056878  Marsh Bellofram & Marshalltown Dist. - M & M C...   \n",
       "47    10031196                             TOX Pressotechnik, LLC   \n",
       "48    20023170                           Metro Hydraulic Jack Co.   \n",
       "49     1222066                                      M & M Control   \n",
       "\n",
       "             company_type                               company_url  \\\n",
       "45  PathCOVID-19 Response  https://us.misumi-ec.com/?mvisits=thomas   \n",
       "46            Distributor       https://www.mmcontrol.com/marsh.php   \n",
       "47  PathCOVID-19 Response         https://us.tox-pressotechnik.com/   \n",
       "48            Distributor           https://www.metrohydraulic.com/   \n",
       "49            Distributor                https://www.mmcontrol.com/   \n",
       "\n",
       "                 location           telephone  \\\n",
       "45   Schaumburg, IL 60173  tel://866-984-9864   \n",
       "46   Lake Villa, IL 60046  tel://877-820-4900   \n",
       "47  Warrenville, IL 60555  tel://855-790-6004   \n",
       "48       Newark, NJ 07104  tel://800-633-8234   \n",
       "49   Lake Villa, IL 60046  tel://877-820-4900   \n",
       "\n",
       "                                  product_description  \\\n",
       "45  Custom manufacturer of cylinders including hyd...   \n",
       "46  A complete selection of pressure gauges, needl...   \n",
       "47  Manufacturer of hydro-pneumatic cylinders. Ava...   \n",
       "48  Distributor of air & hydraulic cylinders inclu...   \n",
       "49  Master distributor of a wide variety of electr...   \n",
       "\n",
       "                                        about_company  \\\n",
       "45  Company Description by Thomasnet\\nCustom manuf...   \n",
       "46  Company Description by Thomasnet\\nA complete s...   \n",
       "47  Company Description by Thomasnet\\nManufacturer...   \n",
       "48  Company Description by Thomasnet\\nDistributor ...   \n",
       "49  Company Description by Thomasnet\\nMaster distr...   \n",
       "\n",
       "                                        product_types  \\\n",
       "45  [Cylinders: Hydraulic, Cylinders, Cylinders: A...   \n",
       "46  [Cylinders: Hydraulic, Cylinders, Cylinders: A...   \n",
       "47  [Cylinders: Hydraulic, Cylinders, Cylinders: A...   \n",
       "48  [Cylinders: Hydraulic, Cylinders, Cylinders: A...   \n",
       "49  [Cylinders: Hydraulic, Cylinders, Cylinders: A...   \n",
       "\n",
       "                                 all_product_services  ... link_all_brands  \\\n",
       "45  [Actuators, Aluminum, Belts, Extrusion Service...  ...                   \n",
       "46  [Gages, Actuators, Controls and Controllers, C...  ...                   \n",
       "47  [Presses, Joiner Systems, Assembly Machinery, ...  ...                   \n",
       "48  [Hydraulic Equipment, Power Units, Pumps, Actu...  ...                   \n",
       "49  [Valves, Conditioners, Heaters, HVAC Equipment...  ...                   \n",
       "\n",
       "   primary_company_type                              additional_activities  \\\n",
       "45         Manufacturer  Distributor, Custom Manufacturer, Finishing Se...   \n",
       "46          Distributor  Manufacturer, Custom Manufacturer, Service Com...   \n",
       "47         Manufacturer                                Custom Manufacturer   \n",
       "48          Distributor                                Custom Manufacturer   \n",
       "49          Distributor               Custom Manufacturer, Service Company   \n",
       "\n",
       "                                        key_personnel  \\\n",
       "45                                    [Not Available]   \n",
       "46                                    [Not Available]   \n",
       "47  [Stefan Gnade, Vice President of Engineering, ...   \n",
       "48                                    [Not Available]   \n",
       "49                                    [Not Available]   \n",
       "\n",
       "                                         social_media  \\\n",
       "45  [https://www.linkedin.com/company/157102?trk=v...   \n",
       "46  [https://www.linkedin.com/company/591670?trk=t...   \n",
       "47  [https://www.linkedin.com/company/tox-pressote...   \n",
       "48              [http://www.metrohydraulic.com/blog/]   \n",
       "49  [https://www.linkedin.com/company/591670?trk=t...   \n",
       "\n",
       "                                      other_locations      annual_revenue  \\\n",
       "45  https://www.thomasnet.com/branches.html?what=h...  $250 Mil. and over   \n",
       "46                                                           $5 - 9.9 Mil   \n",
       "47                                                         $25 - 49.9 Mil   \n",
       "48                                                          Not Available   \n",
       "49                                                           $5 - 9.9 Mil   \n",
       "\n",
       "     year_founded  num_employees  \\\n",
       "45           1963        500-999   \n",
       "46           1984          10-49   \n",
       "47           1985          50-99   \n",
       "48  Not Available  Not Available   \n",
       "49           1984          10-49   \n",
       "\n",
       "                                                  url  \n",
       "45  https://www.thomasnet.com/branchloc.html?cid=1...  \n",
       "46  https://www.thomasnet.com/profile/10056878/mar...  \n",
       "47  https://www.thomasnet.com/profile/10031196/tox...  \n",
       "48  https://www.thomasnet.com/profile/20023170/met...  \n",
       "49  https://www.thomasnet.com/profile/01222066/m-m...  \n",
       "\n",
       "[5 rows x 22 columns]"
      ],
      "text/html": "<div>\n<style scoped>\n    .dataframe tbody tr th:only-of-type {\n        vertical-align: middle;\n    }\n\n    .dataframe tbody tr th {\n        vertical-align: top;\n    }\n\n    .dataframe thead th {\n        text-align: right;\n    }\n</style>\n<table border=\"1\" class=\"dataframe\">\n  <thead>\n    <tr style=\"text-align: right;\">\n      <th></th>\n      <th>company_id</th>\n      <th>company_name</th>\n      <th>company_type</th>\n      <th>company_url</th>\n      <th>location</th>\n      <th>telephone</th>\n      <th>product_description</th>\n      <th>about_company</th>\n      <th>product_types</th>\n      <th>all_product_services</th>\n      <th>...</th>\n      <th>link_all_brands</th>\n      <th>primary_company_type</th>\n      <th>additional_activities</th>\n      <th>key_personnel</th>\n      <th>social_media</th>\n      <th>other_locations</th>\n      <th>annual_revenue</th>\n      <th>year_founded</th>\n      <th>num_employees</th>\n      <th>url</th>\n    </tr>\n  </thead>\n  <tbody>\n    <tr>\n      <th>45</th>\n      <td>10084727</td>\n      <td>MISUMI USA</td>\n      <td>PathCOVID-19 Response</td>\n      <td>https://us.misumi-ec.com/?mvisits=thomas</td>\n      <td>Schaumburg, IL 60173</td>\n      <td>tel://866-984-9864</td>\n      <td>Custom manufacturer of cylinders including hyd...</td>\n      <td>Company Description by Thomasnet\\nCustom manuf...</td>\n      <td>[Cylinders: Hydraulic, Cylinders, Cylinders: A...</td>\n      <td>[Actuators, Aluminum, Belts, Extrusion Service...</td>\n      <td>...</td>\n      <td></td>\n      <td>Manufacturer</td>\n      <td>Distributor, Custom Manufacturer, Finishing Se...</td>\n      <td>[Not Available]</td>\n      <td>[https://www.linkedin.com/company/157102?trk=v...</td>\n      <td>https://www.thomasnet.com/branches.html?what=h...</td>\n      <td>$250 Mil. and over</td>\n      <td>1963</td>\n      <td>500-999</td>\n      <td>https://www.thomasnet.com/branchloc.html?cid=1...</td>\n    </tr>\n    <tr>\n      <th>46</th>\n      <td>10056878</td>\n      <td>Marsh Bellofram &amp; Marshalltown Dist. - M &amp; M C...</td>\n      <td>Distributor</td>\n      <td>https://www.mmcontrol.com/marsh.php</td>\n      <td>Lake Villa, IL 60046</td>\n      <td>tel://877-820-4900</td>\n      <td>A complete selection of pressure gauges, needl...</td>\n      <td>Company Description by Thomasnet\\nA complete s...</td>\n      <td>[Cylinders: Hydraulic, Cylinders, Cylinders: A...</td>\n      <td>[Gages, Actuators, Controls and Controllers, C...</td>\n      <td>...</td>\n      <td></td>\n      <td>Distributor</td>\n      <td>Manufacturer, Custom Manufacturer, Service Com...</td>\n      <td>[Not Available]</td>\n      <td>[https://www.linkedin.com/company/591670?trk=t...</td>\n      <td></td>\n      <td>$5 - 9.9 Mil</td>\n      <td>1984</td>\n      <td>10-49</td>\n      <td>https://www.thomasnet.com/profile/10056878/mar...</td>\n    </tr>\n    <tr>\n      <th>47</th>\n      <td>10031196</td>\n      <td>TOX Pressotechnik, LLC</td>\n      <td>PathCOVID-19 Response</td>\n      <td>https://us.tox-pressotechnik.com/</td>\n      <td>Warrenville, IL 60555</td>\n      <td>tel://855-790-6004</td>\n      <td>Manufacturer of hydro-pneumatic cylinders. Ava...</td>\n      <td>Company Description by Thomasnet\\nManufacturer...</td>\n      <td>[Cylinders: Hydraulic, Cylinders, Cylinders: A...</td>\n      <td>[Presses, Joiner Systems, Assembly Machinery, ...</td>\n      <td>...</td>\n      <td></td>\n      <td>Manufacturer</td>\n      <td>Custom Manufacturer</td>\n      <td>[Stefan Gnade, Vice President of Engineering, ...</td>\n      <td>[https://www.linkedin.com/company/tox-pressote...</td>\n      <td></td>\n      <td>$25 - 49.9 Mil</td>\n      <td>1985</td>\n      <td>50-99</td>\n      <td>https://www.thomasnet.com/profile/10031196/tox...</td>\n    </tr>\n    <tr>\n      <th>48</th>\n      <td>20023170</td>\n      <td>Metro Hydraulic Jack Co.</td>\n      <td>Distributor</td>\n      <td>https://www.metrohydraulic.com/</td>\n      <td>Newark, NJ 07104</td>\n      <td>tel://800-633-8234</td>\n      <td>Distributor of air &amp; hydraulic cylinders inclu...</td>\n      <td>Company Description by Thomasnet\\nDistributor ...</td>\n      <td>[Cylinders: Hydraulic, Cylinders, Cylinders: A...</td>\n      <td>[Hydraulic Equipment, Power Units, Pumps, Actu...</td>\n      <td>...</td>\n      <td></td>\n      <td>Distributor</td>\n      <td>Custom Manufacturer</td>\n      <td>[Not Available]</td>\n      <td>[http://www.metrohydraulic.com/blog/]</td>\n      <td></td>\n      <td>Not Available</td>\n      <td>Not Available</td>\n      <td>Not Available</td>\n      <td>https://www.thomasnet.com/profile/20023170/met...</td>\n    </tr>\n    <tr>\n      <th>49</th>\n      <td>1222066</td>\n      <td>M &amp; M Control</td>\n      <td>Distributor</td>\n      <td>https://www.mmcontrol.com/</td>\n      <td>Lake Villa, IL 60046</td>\n      <td>tel://877-820-4900</td>\n      <td>Master distributor of a wide variety of electr...</td>\n      <td>Company Description by Thomasnet\\nMaster distr...</td>\n      <td>[Cylinders: Hydraulic, Cylinders, Cylinders: A...</td>\n      <td>[Valves, Conditioners, Heaters, HVAC Equipment...</td>\n      <td>...</td>\n      <td></td>\n      <td>Distributor</td>\n      <td>Custom Manufacturer, Service Company</td>\n      <td>[Not Available]</td>\n      <td>[https://www.linkedin.com/company/591670?trk=t...</td>\n      <td></td>\n      <td>$5 - 9.9 Mil</td>\n      <td>1984</td>\n      <td>10-49</td>\n      <td>https://www.thomasnet.com/profile/01222066/m-m...</td>\n    </tr>\n  </tbody>\n</table>\n<p>5 rows × 22 columns</p>\n</div>"
     },
     "metadata": {},
     "execution_count": 14
    }
   ],
   "source": [
    "master_df.to_csv('data/hydraulic_cylinder_master_data.csv',index=False)\n",
    "master_df.tail()"
   ]
  }
 ]
}