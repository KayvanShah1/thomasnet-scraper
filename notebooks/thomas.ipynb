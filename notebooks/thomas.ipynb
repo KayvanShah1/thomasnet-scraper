{
 "metadata": {
  "language_info": {
   "codemirror_mode": {
    "name": "ipython",
    "version": 3
   },
   "file_extension": ".py",
   "mimetype": "text/x-python",
   "name": "python",
   "nbconvert_exporter": "python",
   "pygments_lexer": "ipython3",
   "version": "3.8.7"
  },
  "orig_nbformat": 4,
  "kernelspec": {
   "name": "python3",
   "display_name": "Python 3.8.7 64-bit ('ENV': venv)"
  },
  "interpreter": {
   "hash": "a1bbaa7691f347bdd53fc61c187f1bbfb967e58ee26cee4d0bb5d3fcab5361c7"
  }
 },
 "nbformat": 4,
 "nbformat_minor": 2,
 "cells": [
  {
   "source": [
    "# Testing\n",
    "\n",
    "[Link to the website](https://www.thomasnet.com/)"
   ],
   "cell_type": "markdown",
   "metadata": {}
  },
  {
   "cell_type": "code",
   "execution_count": 27,
   "metadata": {},
   "outputs": [],
   "source": [
    "import requests\n",
    "from bs4 import BeautifulSoup\n",
    "\n",
    "from datetime import datetime\n",
    "import time\n",
    "\n",
    "import numpy as np \n",
    "import pandas as pd\n",
    "import math"
   ]
  },
  {
   "cell_type": "code",
   "execution_count": 28,
   "metadata": {},
   "outputs": [],
   "source": [
    "headers = {\n",
    "    \"user-agent\": \"Mozilla/5.0 (Windows NT 10.0; Win64; x64) AppleWebKit/537.36 (KHTML, like Gecko) Chrome/91.0.4472.114 Safari/537.36\"\n",
    "}\n",
    "\n",
    "payload = {\n",
    "    \"WTZO\": \"Find Suppliers\",\n",
    "    \"cov\": \"NA\",\n",
    "    \"heading\": 21650809,\n",
    "    \"searchsource\": \"suppliers\",\n",
    "    \"searchterm\": \"hydraulic cylinders\",\n",
    "    \"searchx\": \"true\",\n",
    "    \"what\": \"hydraulic cylinders\",\n",
    "    \"which\": \"prod\",\n",
    "    \"pg\": 1\n",
    "}\n",
    "\n",
    "BASE_URL = \"https://www.thomasnet.com/nsearch.html\""
   ]
  },
  {
   "cell_type": "code",
   "execution_count": 29,
   "metadata": {
    "tags": []
   },
   "outputs": [
    {
     "output_type": "stream",
     "name": "stdout",
     "text": [
      "772 suppliers found\n25 found on this page\nTotal Pages: 31\n"
     ]
    }
   ],
   "source": [
    "page = requests.get(BASE_URL, params=payload)\n",
    "soup = BeautifulSoup(page.text,\"lxml\")\n",
    "\n",
    "total_suppliers = soup.find('p',class_=\"supplier-search-results__subheader\").findAll('b')[-1].text\n",
    "print(f\"{total_suppliers} suppliers found\")\n",
    "\n",
    "n_suppliers = soup.findAll('div',class_=\"supplier-search-results__card\")\n",
    "print(f\"{len(n_suppliers)} found on this page\")\n",
    "\n",
    "number_of_pages = float(total_suppliers)/float(len(n_suppliers))\n",
    "print(f\"Total Pages: {math.ceil(number_of_pages)}\")"
   ]
  },
  {
   "cell_type": "code",
   "execution_count": null,
   "metadata": {},
   "outputs": [],
   "source": []
  }
 ]
}